{
  "nbformat": 4,
  "nbformat_minor": 0,
  "metadata": {
    "colab": {
      "name": "dog_classification_keras.ipynb",
      "version": "0.3.2",
      "provenance": [],
      "collapsed_sections": [],
      "toc_visible": true
    },
    "language_info": {
      "codemirror_mode": {
        "name": "ipython",
        "version": 3
      },
      "file_extension": ".py",
      "mimetype": "text/x-python",
      "name": "python",
      "nbconvert_exporter": "python",
      "pygments_lexer": "ipython3",
      "version": "3.6.7"
    },
    "kernelspec": {
      "name": "python3",
      "display_name": "Python 3"
    },
    "accelerator": "GPU"
  },
  "cells": [
    {
      "cell_type": "code",
      "metadata": {
        "id": "ychonA6NQbtu",
        "colab_type": "code",
        "colab": {}
      },
      "source": [
        "import tensorflow as tf\n",
        "import tensorflow.keras as keras\n",
        "from tensorflow.keras import backend as K\n",
        "from tensorflow.keras import layers\n",
        "\n",
        "from tensorflow.keras.preprocessing.image import load_img, img_to_array\n",
        "from tensorflow.keras.preprocessing.image import ImageDataGenerator\n",
        "\n",
        "import pandas as pd\n",
        "import numpy as np\n",
        "from sklearn.model_selection import StratifiedShuffleSplit\n",
        "import matplotlib.pyplot as plt\n",
        "\n",
        "import os\n",
        "import pathlib\n",
        "import time\n",
        "import gc\n",
        "\n",
        "# IMG_SIZE = (200, 200)\n",
        "# IMG_SIZE = (300, 300)\n",
        "IMG_SIZE = (400, 400)\n",
        "INPUT_SIZE = tuple(list(IMG_SIZE) + [3])\n"
      ],
      "execution_count": 0,
      "outputs": []
    },
    {
      "cell_type": "code",
      "metadata": {
        "id": "vhY1bFQ-wxRm",
        "colab_type": "code",
        "outputId": "4c427534-71da-4044-ca4a-fbe75d080a78",
        "colab": {
          "base_uri": "https://localhost:8080/",
          "height": 204
        }
      },
      "source": [
        "!wget http://vision.stanford.edu/aditya86/ImageNetDogs/images.tar"
      ],
      "execution_count": 0,
      "outputs": [
        {
          "output_type": "stream",
          "text": [
            "--2019-08-02 04:04:04--  http://vision.stanford.edu/aditya86/ImageNetDogs/images.tar\n",
            "Resolving vision.stanford.edu (vision.stanford.edu)... 171.64.68.10\n",
            "Connecting to vision.stanford.edu (vision.stanford.edu)|171.64.68.10|:80... connected.\n",
            "HTTP request sent, awaiting response... 200 OK\n",
            "Length: 793579520 (757M) [application/x-tar]\n",
            "Saving to: ‘images.tar’\n",
            "\n",
            "images.tar          100%[===================>] 756.82M  20.9MB/s    in 40s     \n",
            "\n",
            "2019-08-02 04:04:44 (19.1 MB/s) - ‘images.tar’ saved [793579520/793579520]\n",
            "\n"
          ],
          "name": "stdout"
        }
      ]
    },
    {
      "cell_type": "code",
      "metadata": {
        "id": "C4V6SKXhxC_B",
        "colab_type": "code",
        "colab": {}
      },
      "source": [
        "!tar -xf images.tar"
      ],
      "execution_count": 0,
      "outputs": []
    },
    {
      "cell_type": "code",
      "metadata": {
        "id": "dlxc58QVbAbr",
        "colab_type": "code",
        "outputId": "23f45fdc-2cde-4a35-d6d7-c95e45f3263c",
        "colab": {
          "base_uri": "https://localhost:8080/",
          "height": 122
        }
      },
      "source": [
        "from google.colab import drive\n",
        "drive.mount(\"drive\")"
      ],
      "execution_count": 0,
      "outputs": [
        {
          "output_type": "stream",
          "text": [
            "Go to this URL in a browser: https://accounts.google.com/o/oauth2/auth?client_id=947318989803-6bn6qk8qdgf4n4g3pfee6491hc0brc4i.apps.googleusercontent.com&redirect_uri=urn%3Aietf%3Awg%3Aoauth%3A2.0%3Aoob&scope=email%20https%3A%2F%2Fwww.googleapis.com%2Fauth%2Fdocs.test%20https%3A%2F%2Fwww.googleapis.com%2Fauth%2Fdrive%20https%3A%2F%2Fwww.googleapis.com%2Fauth%2Fdrive.photos.readonly%20https%3A%2F%2Fwww.googleapis.com%2Fauth%2Fpeopleapi.readonly&response_type=code\n",
            "\n",
            "Enter your authorization code:\n",
            "··········\n",
            "Mounted at drive\n"
          ],
          "name": "stdout"
        }
      ]
    },
    {
      "cell_type": "code",
      "metadata": {
        "id": "p78_s6sJbudD",
        "colab_type": "code",
        "outputId": "3284ab3b-70f2-4037-b1d0-fbd75a8505b0",
        "colab": {
          "base_uri": "https://localhost:8080/",
          "height": 34
        }
      },
      "source": [
        "!ls \"./\"\n",
        "dataFolder = \"./Images/\"\n",
        "mydrive = \"./drive/My Drive/colab_data/dog_breed/\"\n",
        "dataFiles = [mydrive + \"data/\" + file for file in (\"train.csv\", \"test.csv\")]"
      ],
      "execution_count": 0,
      "outputs": [
        {
          "output_type": "stream",
          "text": [
            "drive  Images  images.tar  sample_data\n"
          ],
          "name": "stdout"
        }
      ]
    },
    {
      "cell_type": "markdown",
      "metadata": {
        "id": "Qn86xrMZDQd0",
        "colab_type": "text"
      },
      "source": [
        "# 1. Stratified split the images into train and test."
      ]
    },
    {
      "cell_type": "code",
      "metadata": {
        "id": "j23TCEsIIdJa",
        "colab_type": "code",
        "colab": {}
      },
      "source": [
        "#----------------------------------------------------------------------------\n",
        "class Prepare_train_test:\n",
        "  \"\"\"\n",
        "  Make the correspondance between the images and labels (breeds of dogs),\n",
        "  and stratified split the data into train and test parts.\n",
        "  \"\"\"\n",
        "  def __init__(self, data_root, test_size, random_seed=42, saveFiles=None):\n",
        "    \"\"\"\n",
        "    Then files in \"data_root\" will be stratified split into train and test parts.\n",
        "    \n",
        "    # Arguments\n",
        "      -\"data_root\": the folder name of the images of dogs.\n",
        "      -\"test_size\": the ratio of the test size to the total size.\n",
        "      -\"random_seed=42\": the random seed for the stratified split.\n",
        "      -\"saveFiles=None\": \n",
        "        the list of file names (including path) to save train and test dfs \n",
        "        if it is given and \"loadFiles==None\". \n",
        "        If \"loadFiles\" is not None, this argument plays no role. \n",
        "    \"\"\"\n",
        "    self.data_root = pathlib.Path(data_root)\n",
        "\n",
        "    # dictionary of breeds and labels\n",
        "    breeds = [item.name for item in self.data_root.iterdir()]\n",
        "    breeds.sort()\n",
        "    # the correspondance between the breeds and labels\n",
        "    self.breeds_labels = dict((item,i) for (i, item) in enumerate(breeds))\n",
        "    self.breeds = breeds # list of breeds \n",
        "    \n",
        "    images_labels = [[str(image), image.parent.name, self.breeds_labels[image.parent.name], ] \n",
        "                     for image in self.data_root.glob(\"*/*.jpg\")]\n",
        "    # labels = np.array([self.breeds_labels[image] for image in images])\n",
        "    images_lables = pd.DataFrame(images_labels, columns=[\"image\", \"breed\", \"label\"])\n",
        "\n",
        "    split = StratifiedShuffleSplit(n_splits=1, test_size=test_size, random_state=random_seed)\n",
        "    # stratified split\n",
        "    for train_index, test_index in split.split(images_lables, images_lables[\"label\"]):\n",
        "      self.train = images_lables.loc[train_index] \n",
        "      self.test = images_lables.loc[test_index]\n",
        "    \n",
        "    # save\n",
        "    if saveFiles:\n",
        "      self.train.to_csv(saveFiles[0], index=None)\n",
        "      self.test.to_csv(saveFiles[1], index=None)\n",
        "\n",
        "    # load images\n",
        "    # print(\"Load images\")\n",
        "    # self.load_images()\n",
        "    \n",
        "  def load_images(self):\n",
        "    \"\"\"\n",
        "    load and convert the images into np.array.\n",
        "    !!!Do not run it. Otherwise RAM will collapse!\n",
        "    \"\"\"\n",
        "    x_list = []\n",
        "    for df in (self.train, self.test):\n",
        "      #images = [img_to_array(load_img(image_file, target_size=IMG_SIZE))/255. for image_file in df.iloc[:,0]]\n",
        "      #images = np.stack(images, axis=0)\n",
        "      \n",
        "      print(len(df))\n",
        "      \n",
        "      # first image\n",
        "      images = np.expand_dims(img_to_array(load_img(df.iloc[0,0], target_size=IMG_SIZE))/255., axis=0)\n",
        "      # other image\n",
        "      for i in range(1, len(df)):\n",
        "        if i%1000 == 0: print(i)\n",
        "        temp = np.expand_dims(img_to_array(load_img(df.iloc[i,0], target_size=IMG_SIZE))/255., axis=0)\n",
        "        images = np.vstack((images, temp))\n",
        "            \n",
        "      x_list.append(images)\n",
        "    \n",
        "    # get the arrays of images\n",
        "    self.x_train, self.x_test = x_list\n",
        "    # get the labels\n",
        "    self.y_train = self.train.iloc[:, 2].values\n",
        "    self.y_train = self.test.values[:, 2].values\n",
        "\n",
        "#----------------------------------------------------------------------------\n",
        "class Load_train_test:\n",
        "  \"\"\"\n",
        "  Load the train and test data \n",
        "  \"\"\"\n",
        "  def __init__(self, files):\n",
        "    \"\"\"\n",
        "    Load the data from \"files\".\n",
        "    \n",
        "    # Arguments\n",
        "      -\"files\": the list of the files of train and test data, [train.csv, test.csv]\n",
        "        And each file should include three columns, [\"image\", \"breed\", \"label\"].\n",
        "    \"\"\"\n",
        "    self.train = pd.read_csv(files[0], index_col=None)\n",
        "    self.test = pd.read_csv(files[1], index_col=None)\n",
        "    self.breeds_labels = dict(self.train.groupby([\"breed\", \"label\"]).groups.keys())\n",
        "    self.breeds = list(self.breeds_labels.keys())\n",
        "    self.breeds.sort(key = lambda x: self.breeds_labels[x])"
      ],
      "execution_count": 0,
      "outputs": []
    },
    {
      "cell_type": "markdown",
      "metadata": {
        "id": "I4NmeyrYVlQH",
        "colab_type": "text"
      },
      "source": [
        "## 1.1  Train and test images data"
      ]
    },
    {
      "cell_type": "code",
      "metadata": {
        "id": "Iw4M8Y6QDbcT",
        "colab_type": "code",
        "colab": {}
      },
      "source": [
        "# Make the train and test data\n",
        "# images_labels = Prepare_train_test(dataFolder, 0.1, saveFiles=dataFiles)\n",
        "# load the trian and test data\n",
        "images_labels = Load_train_test(files=dataFiles)"
      ],
      "execution_count": 0,
      "outputs": []
    },
    {
      "cell_type": "code",
      "metadata": {
        "colab_type": "code",
        "id": "XiVwE-M-S4Yk",
        "colab": {}
      },
      "source": [
        ""
      ],
      "execution_count": 0,
      "outputs": []
    },
    {
      "cell_type": "markdown",
      "metadata": {
        "id": "avbu6jSEZXpP",
        "colab_type": "text"
      },
      "source": [
        "#2. ImageDataGenerator"
      ]
    },
    {
      "cell_type": "code",
      "metadata": {
        "id": "LUTzEL5RWwIY",
        "colab_type": "code",
        "colab": {}
      },
      "source": [
        "# generator for train and validation data\n",
        "datagen = ImageDataGenerator(rescale=1./255, \n",
        "                             rotation_range=40, \n",
        "                             width_shift_range=0.2, \n",
        "                             height_shift_range=0.2,\n",
        "                             shear_range=0.2,\n",
        "                             zoom_range=0.2,\n",
        "                             channel_shift_range=10,\n",
        "                             horizontal_flip=True, \n",
        "                             validation_split=0.1)\n",
        "# generator for test images\n",
        "test_datagen = ImageDataGenerator(rescale=1./255)"
      ],
      "execution_count": 0,
      "outputs": []
    },
    {
      "cell_type": "markdown",
      "metadata": {
        "colab_type": "text",
        "id": "JYdvyViJS4Tk"
      },
      "source": [
        "## 2.1 Generators Exploration."
      ]
    },
    {
      "cell_type": "code",
      "metadata": {
        "id": "YN2xQzY8TXYZ",
        "colab_type": "code",
        "colab": {}
      },
      "source": [
        "# ......"
      ],
      "execution_count": 0,
      "outputs": []
    },
    {
      "cell_type": "markdown",
      "metadata": {
        "id": "-HEs2UT_cjo_",
        "colab_type": "text"
      },
      "source": [
        "## 2.2 Data generators (train, validation, test)"
      ]
    },
    {
      "cell_type": "code",
      "metadata": {
        "id": "dEYIVaNocueF",
        "colab_type": "code",
        "outputId": "b3a69dd2-93d0-439a-e0f8-fd2754cdb43a",
        "colab": {
          "base_uri": "https://localhost:8080/",
          "height": 68
        }
      },
      "source": [
        "# BATCH_SIZE_train = 500\n",
        "BATCH_SIZE_train = 100\n",
        "BATCH_SIZE_val = 98\n",
        "BATCH_SIZE_test = 42\n",
        "\n",
        "train_generator = datagen.flow_from_dataframe(dataframe=images_labels.train, x_col=\"image\", y_col=\"breed\", \n",
        "                                              subset=\"training\", \n",
        "                                              classes=images_labels.breeds, \n",
        "                                              class_mode=\"sparse\", \n",
        "                                              batch_size=BATCH_SIZE_train, \n",
        "                                              target_size=IMG_SIZE)\n",
        "val_generator = datagen.flow_from_dataframe(dataframe=images_labels.train, x_col=\"image\", y_col=\"breed\", \n",
        "                                            subset=\"validation\", \n",
        "                                            classes=images_labels.breeds, \n",
        "                                            class_mode=\"sparse\", \n",
        "                                            batch_size=BATCH_SIZE_val, \n",
        "                                            target_size=IMG_SIZE)\n",
        "\n",
        "test_generator = test_datagen.flow_from_dataframe(dataframe=images_labels.test, x_col=\"image\", y_col=\"breed\", \n",
        "                                                  classes=images_labels.breeds, \n",
        "                                                  class_mode=\"sparse\", \n",
        "                                                  batch_size=BATCH_SIZE_test, \n",
        "                                                  target_size=IMG_SIZE, \n",
        "                                                  shuffle=False)"
      ],
      "execution_count": 0,
      "outputs": [
        {
          "output_type": "stream",
          "text": [
            "Found 16670 validated image filenames belonging to 120 classes.\n",
            "Found 1852 validated image filenames belonging to 120 classes.\n",
            "Found 2058 validated image filenames belonging to 120 classes.\n"
          ],
          "name": "stdout"
        }
      ]
    },
    {
      "cell_type": "code",
      "metadata": {
        "colab_type": "code",
        "outputId": "0fba871c-727d-4246-eecd-1ac18a81757b",
        "id": "ksG9EtEJ_ddx",
        "colab": {
          "base_uri": "https://localhost:8080/",
          "height": 34
        }
      },
      "source": [
        "for i, breed in enumerate(images_labels.breeds):\n",
        "  if (train_generator.class_indices[breed] != i): \n",
        "    print(\"Wrong!\")\n",
        "    break\n",
        "else:\n",
        "  print(\"Yes!\")"
      ],
      "execution_count": 0,
      "outputs": [
        {
          "output_type": "stream",
          "text": [
            "Yes!\n"
          ],
          "name": "stdout"
        }
      ]
    },
    {
      "cell_type": "code",
      "metadata": {
        "id": "Px2yuCERdS_D",
        "colab_type": "code",
        "outputId": "1bbe71c3-a8ee-4126-d1a1-020edf9679cd",
        "colab": {
          "base_uri": "https://localhost:8080/",
          "height": 34
        }
      },
      "source": [
        "for i, breed in enumerate(images_labels.breeds):\n",
        "  if (val_generator.class_indices[breed] != i): \n",
        "    print(\"Wrong!\")\n",
        "    break\n",
        "else:\n",
        "  print(\"Yes!\")"
      ],
      "execution_count": 0,
      "outputs": [
        {
          "output_type": "stream",
          "text": [
            "Yes!\n"
          ],
          "name": "stdout"
        }
      ]
    },
    {
      "cell_type": "code",
      "metadata": {
        "id": "2MQIR-aim4au",
        "colab_type": "code",
        "colab": {}
      },
      "source": [
        ""
      ],
      "execution_count": 0,
      "outputs": []
    },
    {
      "cell_type": "markdown",
      "metadata": {
        "id": "JSij9kD4Qbtz",
        "colab_type": "text"
      },
      "source": [
        "# 3. Construct model\n"
      ]
    },
    {
      "cell_type": "code",
      "metadata": {
        "id": "-1e7wZ9XW0Bx",
        "colab_type": "code",
        "colab": {}
      },
      "source": [
        "# function to construct model\n",
        "def fModel_dog_breeds(base_model, flat_layers):\n",
        "  \"\"\"\n",
        "  -\"flat_layers\": the list of units in the flat layers top of \"base_model\". \n",
        "    It should not incleude the output layer which is fixed to be 120.\n",
        "  \"\"\"\n",
        "  myL2 = 1e-3\n",
        "  model = tf.keras.Sequential()\n",
        "  model.add(base_model)\n",
        "  model.add(layers.Flatten())\n",
        "  for n_units in flat_layers:\n",
        "    model.add(layers.Dense(units=n_units, activation=\"relu\"\n",
        "                           # kernel_regularizer=keras.regularizers.l2(myL2), \n",
        "                           #bias_regularizer=keras.regularizers.l2(myL2)\n",
        "                          ))\n",
        "    model.add(layers.Dropout(0.5))\n",
        "  model.add(layers.Dense(120, activation=\"softmax\"))\n",
        "  \n",
        "  return model\n"
      ],
      "execution_count": 0,
      "outputs": []
    },
    {
      "cell_type": "code",
      "metadata": {
        "id": "S54zfLcBQshd",
        "colab_type": "code",
        "outputId": "c08c4b5a-89b0-4340-aa1a-b697b3dd1abc",
        "colab": {
          "base_uri": "https://localhost:8080/",
          "height": 139
        }
      },
      "source": [
        "# import InceptionV3\n",
        "from tensorflow.keras.applications import InceptionV3\n",
        "conv_base = InceptionV3(include_top=False, weights=\"imagenet\", input_shape=INPUT_SIZE)"
      ],
      "execution_count": 0,
      "outputs": [
        {
          "output_type": "stream",
          "text": [
            "WARNING: Logging before flag parsing goes to stderr.\n",
            "W0802 04:05:49.899074 140491995563904 deprecation.py:506] From /usr/local/lib/python3.6/dist-packages/tensorflow/python/ops/init_ops.py:1251: calling VarianceScaling.__init__ (from tensorflow.python.ops.init_ops) with dtype is deprecated and will be removed in a future version.\n",
            "Instructions for updating:\n",
            "Call initializer instance with the dtype argument instead of passing it to the constructor\n"
          ],
          "name": "stderr"
        },
        {
          "output_type": "stream",
          "text": [
            "Downloading data from https://github.com/fchollet/deep-learning-models/releases/download/v0.5/inception_v3_weights_tf_dim_ordering_tf_kernels_notop.h5\n",
            "87916544/87910968 [==============================] - 3s 0us/step\n"
          ],
          "name": "stdout"
        }
      ]
    },
    {
      "cell_type": "code",
      "metadata": {
        "id": "p4ly41ug6Ewc",
        "colab_type": "code",
        "outputId": "c61f9d5b-0ccd-4be6-f9ff-2f8fb56e1eba",
        "colab": {
          "base_uri": "https://localhost:8080/",
          "height": 51
        }
      },
      "source": [
        "model = fModel_dog_breeds(conv_base, [1204])\n",
        "print(\"Number of trainalbe layers before freezing the base model:\", len(model.trainable_weights))\n",
        "conv_base.trainable = False\n",
        "print(\"Number of trainalbe layers after freezing the base model:\", len(model.trainable_weights))"
      ],
      "execution_count": 0,
      "outputs": [
        {
          "output_type": "stream",
          "text": [
            "Number of trainalbe layers before freezing the base model: 192\n",
            "Number of trainalbe layers after freezing the base model: 4\n"
          ],
          "name": "stdout"
        }
      ]
    },
    {
      "cell_type": "markdown",
      "metadata": {
        "id": "hBXspYzc6RUk",
        "colab_type": "text"
      },
      "source": [
        "## 3.1 One Cycle Policy"
      ]
    },
    {
      "cell_type": "code",
      "metadata": {
        "id": "lLUvOcZP6dd0",
        "colab_type": "code",
        "colab": {}
      },
      "source": [
        "import math\n",
        "\n",
        "class OneCyclePolicy(keras.callbacks.Callback):\n",
        "  \"\"\"\n",
        "  To implement the one cycle policy to find a good learning rate.\n",
        "  \"\"\"\n",
        "  def __init__(self, init_lr, final_lr, num, beta=0.98):\n",
        "    \"\"\"\n",
        "    -\"init_lr\": the initial learning rate to tested\n",
        "    -\"final_lr\": the final learning rate to tested\n",
        "    -\"num\": the number of learing rates to be tested. \n",
        "      Usually, it should be \"len(train_data)/batch_size\" or \"steps_per_epoch\". \n",
        "    \"\"\"\n",
        "    # call the super init\n",
        "    keras.callbacks.Callback.__init__(self)\n",
        "    self.init_lr, self.final_lr, self.num, self.beta = init_lr, final_lr, num, beta\n",
        "    \n",
        "    # calculate the multiplication factor\n",
        "    self.mult = (self.final_lr/self.init_lr)**(1./self.num)\n",
        "    \n",
        "    self.losses = []\n",
        "    self.log_lrs = []\n",
        "    self.best_loss = None\n",
        "    self.avg_loss = 0\n",
        "    \n",
        "  def on_train_begin(self, logs={}):\n",
        "    # set the inital learning rate\n",
        "    K.set_value(self.model.optimizer.lr, self.init_lr)\n",
        "  \n",
        "  def on_train_batch_end(self, batch, logs={}):\n",
        "    \n",
        "    # get the average loss\n",
        "    current = logs.get(\"loss\")\n",
        "    # update the average loss\n",
        "    self.avg_loss = self.beta*self.avg_loss + (1-self.beta)*current\n",
        "    # get the smoothed (bias corrrected) loss \n",
        "    smoothed  = self.avg_loss/(1 - self.beta**(batch+1))\n",
        "    \n",
        "    # update the best loss\n",
        "    if self.best_loss is None or self.best_loss > smoothed:\n",
        "      self.best_loss = smoothed\n",
        "\n",
        "    if 2*self.best_loss < smoothed :\n",
        "      self.model.stop_training = True\n",
        "    else:\n",
        "      # append the smoothed loss and the log lr\n",
        "      self.losses.append(smoothed)\n",
        "      # append log10 lr\n",
        "      lr = K.get_value(self.model.optimizer.lr)\n",
        "      self.log_lrs.append(math.log10(lr))\n",
        "      # update lr\n",
        "      K.set_value(self.model.optimizer.lr, lr*self.mult)\n"
      ],
      "execution_count": 0,
      "outputs": []
    },
    {
      "cell_type": "code",
      "metadata": {
        "id": "Y949BOtzZAA_",
        "colab_type": "code",
        "colab": {}
      },
      "source": [
        "model.compile(optimizer = keras.optimizers.RMSprop(lr=1e-3), loss='sparse_categorical_crossentropy', \n",
        "              metrics=['accuracy'])"
      ],
      "execution_count": 0,
      "outputs": []
    },
    {
      "cell_type": "code",
      "metadata": {
        "id": "yHJSYCDbGO2y",
        "colab_type": "code",
        "outputId": "16ba3ab2-8a97-4b6b-b7c3-be9cc9822f46",
        "colab": {
          "base_uri": "https://localhost:8080/",
          "height": 34
        }
      },
      "source": [
        "find_lr = OneCyclePolicy(1e-7, 1e-3, train_generator.n//BATCH_SIZE_train)\n",
        "history = model.fit_generator(train_generator, epochs=1, steps_per_epoch=train_generator.n//BATCH_SIZE_train,\n",
        "                              callbacks=[find_lr])"
      ],
      "execution_count": 0,
      "outputs": [
        {
          "output_type": "stream",
          "text": [
            "92/92 [==============================] - 759s 8s/step - loss: 6.5364 - acc: 0.0294\n"
          ],
          "name": "stdout"
        }
      ]
    },
    {
      "cell_type": "code",
      "metadata": {
        "id": "6Rj4AJMnBDI5",
        "colab_type": "code",
        "outputId": "ebc3442e-4e4f-4d45-aad2-6754eeb10cc7",
        "colab": {
          "base_uri": "https://localhost:8080/",
          "height": 269
        }
      },
      "source": [
        "# for IMG_SIZE=[400,400], batch_size=180 and with flat kernel and no regularizers (l2=1e-4)\n",
        "n=92\n",
        "plt.plot(find_lr.log_lrs[:n], find_lr.losses[:n])\n",
        "plt.show()"
      ],
      "execution_count": 0,
      "outputs": [
        {
          "output_type": "display_data",
          "data": {
            "image/png": "[encoded data removed]",
            "text/plain": [
              "<Figure size 432x288 with 1 Axes>"
            ]
          },
          "metadata": {
            "tags": []
          }
        }
      ]
    },
    {
      "cell_type": "code",
      "metadata": {
        "id": "nzIWxO5t8-v4",
        "colab_type": "code",
        "outputId": "47d0f412-fee3-45d7-88da-d81f5d02a1fd",
        "colab": {
          "base_uri": "https://localhost:8080/",
          "height": 269
        }
      },
      "source": [
        "# for IMG_SIZE=[300,300], batch_size=180 and with flat kernel and no regularizers (l2=1e-4)\n",
        "n=92\n",
        "plt.plot(find_lr.log_lrs[:n], find_lr.losses[:n])\n",
        "plt.show()"
      ],
      "execution_count": 0,
      "outputs": [
        {
          "output_type": "display_data",
          "data": {
            "image/png": "[encoded data removed]",
            "text/plain": [
              "<Figure size 432x288 with 1 Axes>"
            ]
          },
          "metadata": {
            "tags": []
          }
        }
      ]
    },
    {
      "cell_type": "code",
      "metadata": {
        "id": "uMD8bBEiALVV",
        "colab_type": "code",
        "outputId": "d2aa9168-736c-4cfd-dac1-f18d069ff1e6",
        "colab": {
          "base_uri": "https://localhost:8080/",
          "height": 269
        }
      },
      "source": [
        "# for batch_size=500 and with flat kernel and bias regularizers (l2=1e-4)\n",
        "n=33\n",
        "plt.plot(find_lr.log_lrs[:n], find_lr.losses[:n])\n",
        "plt.show()"
      ],
      "execution_count": 0,
      "outputs": [
        {
          "output_type": "display_data",
          "data": {
            "image/png": "[encoded data removed]",
            "text/plain": [
              "<Figure size 432x288 with 1 Axes>"
            ]
          },
          "metadata": {
            "tags": []
          }
        }
      ]
    },
    {
      "cell_type": "code",
      "metadata": {
        "id": "_dnKFlVOw3e4",
        "colab_type": "code",
        "outputId": "5d71a610-2e8f-456e-fc37-9e93ad14a50d",
        "colab": {
          "base_uri": "https://localhost:8080/",
          "height": 269
        }
      },
      "source": [
        "# for batch_size=180 and no regularizer\n",
        "n=92\n",
        "plt.plot(find_lr.log_lrs[:n], find_lr.losses[:n])\n",
        "plt.show()"
      ],
      "execution_count": 0,
      "outputs": [
        {
          "output_type": "display_data",
          "data": {
            "image/png": "[encoded data removed]",
            "text/plain": [
              "<Figure size 432x288 with 1 Axes>"
            ]
          },
          "metadata": {
            "tags": []
          }
        }
      ]
    },
    {
      "cell_type": "code",
      "metadata": {
        "id": "4nqdoPRGdWFc",
        "colab_type": "code",
        "outputId": "1b13f7ef-3a10-4368-b92a-06806c61a848",
        "colab": {
          "base_uri": "https://localhost:8080/",
          "height": 269
        }
      },
      "source": [
        "# for batch_size=500 and regularizer\n",
        "\"\"\"\n",
        "n=33\n",
        "plt.plot(find_lr.log_lrs[:n], find_lr.losses[:n])\n",
        "plt.show()\n",
        "\"\"\""
      ],
      "execution_count": 0,
      "outputs": [
        {
          "output_type": "display_data",
          "data": {
            "image/png": "[encoded data removed]",
            "text/plain": [
              "<Figure size 432x288 with 1 Axes>"
            ]
          },
          "metadata": {
            "tags": []
          }
        }
      ]
    },
    {
      "cell_type": "markdown",
      "metadata": {
        "id": "DU3V-xOZZGDV",
        "colab_type": "text"
      },
      "source": [
        "## 3.2 Train and test"
      ]
    },
    {
      "cell_type": "code",
      "metadata": {
        "id": "2NE2SpQVLxsd",
        "colab_type": "code",
        "colab": {}
      },
      "source": [
        "\n",
        "from tensorflow.keras.callbacks import ModelCheckpoint, LambdaCallback\n",
        "# checkpoints\n",
        "modelFolder = \"./models/\"\n",
        "bestModelFile = modelFolder + \"weights.epoch:{epoch:02d}-val_acc:{val_acc:0.3f}.h5\"\n",
        "\n",
        "checkpoint_bestmodel = ModelCheckpoint(bestModelFile, monitor=\"val_acc\", save_weight_only=True, save_best_only=True)\n",
        "\n",
        "\n",
        "# checkpoint_finalmodel = LambdaCallback(on_train_end=lambda logs: \n",
        "#                                       model.save_weights(bestModelFile.format(epoch=EPOCHS, val_acc=logs[\"val_acc\"])))\n",
        "\n",
        "callback_list = [checkpoint_bestmodel]"
      ],
      "execution_count": 0,
      "outputs": []
    },
    {
      "cell_type": "code",
      "metadata": {
        "id": "pggBTw2yA9rR",
        "colab_type": "code",
        "colab": {}
      },
      "source": [
        ""
      ],
      "execution_count": 0,
      "outputs": []
    },
    {
      "cell_type": "code",
      "metadata": {
        "id": "cO5aqWTSwFCz",
        "colab_type": "code",
        "outputId": "ddcd12f5-940b-4f58-ed48-e4ac05710d1b",
        "colab": {
          "base_uri": "https://localhost:8080/",
          "height": 34
        }
      },
      "source": [
        "!mkdir \"./models\"\n",
        "!ls "
      ],
      "execution_count": 0,
      "outputs": [
        {
          "output_type": "stream",
          "text": [
            "drive  Images  images.tar  models  sample_data\n"
          ],
          "name": "stdout"
        }
      ]
    },
    {
      "cell_type": "code",
      "metadata": {
        "id": "GfIUswGrQbua",
        "colab_type": "code",
        "colab": {}
      },
      "source": [
        "# learning_rate = 1e-4\n",
        "# learning_rate = 3e-5 # one-cycle policy for IMG_SIZE=[200, 200]\n",
        "learning_rate = 1e-5 # one-cycle policy for IMG_SIZE=[300, 300], IMG_SIZE=[400, 400]\n",
        "\n",
        "model.compile(optimizer = keras.optimizers.RMSprop(lr=learning_rate), loss='sparse_categorical_crossentropy', \n",
        "              metrics=['accuracy'])"
      ],
      "execution_count": 0,
      "outputs": []
    },
    {
      "cell_type": "code",
      "metadata": {
        "id": "cMTCHA90Qbub",
        "colab_type": "code",
        "outputId": "1ceefb57-d15a-4b57-e950-d2e788a9cb06",
        "colab": {
          "base_uri": "https://localhost:8080/",
          "height": 1000
        }
      },
      "source": [
        "EPOCHS = 40\n",
        "history = model.fit_generator(train_generator, epochs=EPOCHS, steps_per_epoch=train_generator.n//BATCH_SIZE_train, \n",
        "                              validation_data=val_generator, validation_steps=val_generator.n//BATCH_SIZE_val, \n",
        "                              callbacks=callback_list )\n",
        "finalModel = bestModelFile.format(epoch=EPOCHS, val_acc=history.history[\"val_acc\"][-1])\n",
        "if not os.path.exists(finalModel):\n",
        "  model.save_weights(finalModel)"
      ],
      "execution_count": 0,
      "outputs": [
        {
          "output_type": "stream",
          "text": [
            "Epoch 1/40\n",
            "166/166 [==============================] - 874s 5s/step - loss: 3.0000 - acc: 0.3485 - val_loss: 1.1983 - val_acc: 0.7460\n",
            "Epoch 2/40\n",
            "166/166 [==============================] - 898s 5s/step - loss: 1.5026 - acc: 0.6237 - val_loss: 0.7884 - val_acc: 0.8005\n",
            "Epoch 3/40\n",
            "166/166 [==============================] - 897s 5s/step - loss: 1.2161 - acc: 0.6850 - val_loss: 0.6799 - val_acc: 0.8067\n",
            "Epoch 4/40\n",
            "166/166 [==============================] - 908s 5s/step - loss: 1.0963 - acc: 0.7141 - val_loss: 0.6389 - val_acc: 0.8163\n",
            "Epoch 5/40\n",
            "166/166 [==============================] - 920s 6s/step - loss: 1.0180 - acc: 0.7327 - val_loss: 0.6175 - val_acc: 0.8152\n",
            "Epoch 6/40\n",
            "166/166 [==============================] - 919s 6s/step - loss: 0.9705 - acc: 0.7424 - val_loss: 0.6287 - val_acc: 0.8231\n",
            "Epoch 7/40\n",
            "166/166 [==============================] - 921s 6s/step - loss: 0.9316 - acc: 0.7517 - val_loss: 0.5937 - val_acc: 0.8237\n",
            "Epoch 8/40\n",
            "166/166 [==============================] - 1022s 6s/step - loss: 0.8722 - acc: 0.7670 - val_loss: 0.5716 - val_acc: 0.8333\n",
            "Epoch 9/40\n",
            "166/166 [==============================] - 901s 5s/step - loss: 0.8591 - acc: 0.7675 - val_loss: 0.5829 - val_acc: 0.8203\n",
            "Epoch 10/40\n",
            "166/166 [==============================] - 837s 5s/step - loss: 0.8239 - acc: 0.7749 - val_loss: 0.5936 - val_acc: 0.8237\n",
            "Epoch 11/40\n",
            "166/166 [==============================] - 831s 5s/step - loss: 0.8099 - acc: 0.7818 - val_loss: 0.6115 - val_acc: 0.8220\n",
            "Epoch 12/40\n",
            "166/166 [==============================] - 869s 5s/step - loss: 0.7890 - acc: 0.7835 - val_loss: 0.6045 - val_acc: 0.8237\n",
            "Epoch 13/40\n",
            "166/166 [==============================] - 808s 5s/step - loss: 0.7666 - acc: 0.7896 - val_loss: 0.6066 - val_acc: 0.8180\n",
            "Epoch 14/40\n",
            "166/166 [==============================] - 886s 5s/step - loss: 0.7506 - acc: 0.7947 - val_loss: 0.5452 - val_acc: 0.8316\n",
            "Epoch 15/40\n",
            "166/166 [==============================] - 924s 6s/step - loss: 0.7259 - acc: 0.8010 - val_loss: 0.5574 - val_acc: 0.8203\n",
            "Epoch 16/40\n",
            "166/166 [==============================] - 950s 6s/step - loss: 0.7084 - acc: 0.8072 - val_loss: 0.5711 - val_acc: 0.8407\n",
            "Epoch 17/40\n",
            "166/166 [==============================] - 898s 5s/step - loss: 0.7031 - acc: 0.8100 - val_loss: 0.5771 - val_acc: 0.8277\n",
            "Epoch 18/40\n",
            "166/166 [==============================] - 897s 5s/step - loss: 0.6979 - acc: 0.8105 - val_loss: 0.5480 - val_acc: 0.8413\n",
            "Epoch 19/40\n",
            "166/166 [==============================] - 830s 5s/step - loss: 0.6840 - acc: 0.8088 - val_loss: 0.5554 - val_acc: 0.8396\n",
            "Epoch 20/40\n",
            "166/166 [==============================] - 843s 5s/step - loss: 0.6788 - acc: 0.8130 - val_loss: 0.5436 - val_acc: 0.8441\n",
            "Epoch 21/40\n",
            "166/166 [==============================] - 876s 5s/step - loss: 0.6691 - acc: 0.8161 - val_loss: 0.5696 - val_acc: 0.8322\n",
            "Epoch 22/40\n",
            "166/166 [==============================] - 904s 5s/step - loss: 0.6670 - acc: 0.8179 - val_loss: 0.5696 - val_acc: 0.8401\n",
            "Epoch 23/40\n",
            "166/166 [==============================] - 918s 6s/step - loss: 0.6414 - acc: 0.8246 - val_loss: 0.5540 - val_acc: 0.8356\n",
            "Epoch 24/40\n",
            "166/166 [==============================] - 1165s 7s/step - loss: 0.6501 - acc: 0.8218 - val_loss: 0.5381 - val_acc: 0.8401\n",
            "Epoch 25/40\n",
            "166/166 [==============================] - 998s 6s/step - loss: 0.6237 - acc: 0.8258 - val_loss: 0.6088 - val_acc: 0.8186\n",
            "Epoch 26/40\n",
            "166/166 [==============================] - 877s 5s/step - loss: 0.6223 - acc: 0.8282 - val_loss: 0.5367 - val_acc: 0.8401\n",
            "Epoch 27/40\n",
            "166/166 [==============================] - 1200s 7s/step - loss: 0.6159 - acc: 0.8313 - val_loss: 0.5700 - val_acc: 0.8282\n",
            "Epoch 28/40\n",
            "166/166 [==============================] - 1237s 7s/step - loss: 0.5973 - acc: 0.8342 - val_loss: 0.5763 - val_acc: 0.8231\n",
            "Epoch 29/40\n",
            "166/166 [==============================] - 1059s 6s/step - loss: 0.5910 - acc: 0.8323 - val_loss: 0.5514 - val_acc: 0.8384\n",
            "Epoch 30/40\n",
            "166/166 [==============================] - 883s 5s/step - loss: 0.5902 - acc: 0.8335 - val_loss: 0.5422 - val_acc: 0.8435\n",
            "Epoch 31/40\n",
            "166/166 [==============================] - 877s 5s/step - loss: 0.5908 - acc: 0.8362 - val_loss: 0.5248 - val_acc: 0.8447\n",
            "Epoch 32/40\n",
            "166/166 [==============================] - 874s 5s/step - loss: 0.5806 - acc: 0.8378 - val_loss: 0.5898 - val_acc: 0.8129\n",
            "Epoch 33/40\n",
            "166/166 [==============================] - 868s 5s/step - loss: 0.5833 - acc: 0.8410 - val_loss: 0.6110 - val_acc: 0.8299\n",
            "Epoch 34/40\n",
            "166/166 [==============================] - 870s 5s/step - loss: 0.5609 - acc: 0.8474 - val_loss: 0.5655 - val_acc: 0.8379\n",
            "Epoch 35/40\n",
            "166/166 [==============================] - 869s 5s/step - loss: 0.5578 - acc: 0.8433 - val_loss: 0.5830 - val_acc: 0.8299\n",
            "Epoch 36/40\n",
            "166/166 [==============================] - 869s 5s/step - loss: 0.5748 - acc: 0.8413 - val_loss: 0.5243 - val_acc: 0.8554\n",
            "Epoch 37/40\n",
            "166/166 [==============================] - 853s 5s/step - loss: 0.5575 - acc: 0.8418 - val_loss: 0.5432 - val_acc: 0.8373\n",
            "Epoch 38/40\n",
            "166/166 [==============================] - 874s 5s/step - loss: 0.5347 - acc: 0.8469 - val_loss: 0.5528 - val_acc: 0.8373\n",
            "Epoch 39/40\n",
            "166/166 [==============================] - 874s 5s/step - loss: 0.5537 - acc: 0.8514 - val_loss: 0.5576 - val_acc: 0.8384\n",
            "Epoch 40/40\n",
            "166/166 [==============================] - 874s 5s/step - loss: 0.5330 - acc: 0.8515 - val_loss: 0.5711 - val_acc: 0.8373\n"
          ],
          "name": "stdout"
        }
      ]
    },
    {
      "cell_type": "code",
      "metadata": {
        "id": "8kc_-svla8y7",
        "colab_type": "code",
        "outputId": "0a102831-2db6-4ae5-acde-a339da8da42e",
        "colab": {
          "base_uri": "https://localhost:8080/",
          "height": 34
        }
      },
      "source": [
        "test_generator.reset()\n",
        "model.evaluate_generator(test_generator, steps=test_generator.n//BATCH_SIZE_test)"
      ],
      "execution_count": 0,
      "outputs": [
        {
          "output_type": "execute_result",
          "data": {
            "text/plain": [
              "[0.2839274158587261, 0.91739553]"
            ]
          },
          "metadata": {
            "tags": []
          },
          "execution_count": 20
        }
      ]
    },
    {
      "cell_type": "code",
      "metadata": {
        "id": "L13lqpS7NcC1",
        "colab_type": "code",
        "outputId": "d858060d-0ae3-430c-e262-4d328c1347d0",
        "colab": {
          "base_uri": "https://localhost:8080/",
          "height": 190
        }
      },
      "source": [
        "model1 = keras.models.load_model(\"models/weights.epoch:36-val_acc:0.855.h5\")\n",
        "# model2 = keras.models.load_model(\"drive/My Drive/colab_data/dog_breed/models/weights.epoch:45-val_acc:0.599206.h5\")"
      ],
      "execution_count": 0,
      "outputs": [
        {
          "output_type": "stream",
          "text": [
            "W0802 14:23:59.399945 140491995563904 deprecation.py:506] From /usr/local/lib/python3.6/dist-packages/tensorflow/python/ops/init_ops.py:97: calling GlorotUniform.__init__ (from tensorflow.python.ops.init_ops) with dtype is deprecated and will be removed in a future version.\n",
            "Instructions for updating:\n",
            "Call initializer instance with the dtype argument instead of passing it to the constructor\n",
            "W0802 14:23:59.403798 140491995563904 deprecation.py:506] From /usr/local/lib/python3.6/dist-packages/tensorflow/python/ops/init_ops.py:97: calling Zeros.__init__ (from tensorflow.python.ops.init_ops) with dtype is deprecated and will be removed in a future version.\n",
            "Instructions for updating:\n",
            "Call initializer instance with the dtype argument instead of passing it to the constructor\n",
            "W0802 14:23:59.412644 140491995563904 deprecation.py:506] From /usr/local/lib/python3.6/dist-packages/tensorflow/python/ops/init_ops.py:97: calling Ones.__init__ (from tensorflow.python.ops.init_ops) with dtype is deprecated and will be removed in a future version.\n",
            "Instructions for updating:\n",
            "Call initializer instance with the dtype argument instead of passing it to the constructor\n"
          ],
          "name": "stderr"
        }
      ]
    },
    {
      "cell_type": "code",
      "metadata": {
        "id": "WKiBua0MO5fR",
        "colab_type": "code",
        "outputId": "82c3866f-19eb-4f6d-93f3-bd8b315b1f32",
        "colab": {
          "base_uri": "https://localhost:8080/",
          "height": 34
        }
      },
      "source": [
        "test_generator.reset()\n",
        "model1.evaluate_generator(test_generator, steps=test_generator.n//BATCH_SIZE_test)"
      ],
      "execution_count": 0,
      "outputs": [
        {
          "output_type": "execute_result",
          "data": {
            "text/plain": [
              "[0.28793709025699266, 0.9139942]"
            ]
          },
          "metadata": {
            "tags": []
          },
          "execution_count": 22
        }
      ]
    },
    {
      "cell_type": "code",
      "metadata": {
        "id": "Rp3bd9CzZgxW",
        "colab_type": "code",
        "colab": {}
      },
      "source": [
        "!cp models/weights.epoch:40-val_acc:0.837.h5 \"./drive/My Drive/colab_data/dog_breed/models/\""
      ],
      "execution_count": 0,
      "outputs": []
    },
    {
      "cell_type": "code",
      "metadata": {
        "id": "qK7rw2XCSD6x",
        "colab_type": "code",
        "colab": {}
      },
      "source": [
        ""
      ],
      "execution_count": 0,
      "outputs": []
    }
  ]
}